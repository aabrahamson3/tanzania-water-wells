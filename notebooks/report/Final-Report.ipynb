{
 "cells": [
  {
   "cell_type": "markdown",
   "metadata": {},
   "source": [
    "# Detecting Tanzanian Water Wells in Need of Repair"
   ]
  },
  {
   "cell_type": "markdown",
   "metadata": {},
   "source": [
    "Our project was aimed at helping the Tanzanian government (and support organizations) detect when a water well will be in need of repair. This is a substantial issue in Tanzania as it experiences severe dry seasons, and most of the population lives in rural communities."
   ]
  },
  {
   "cell_type": "markdown",
   "metadata": {},
   "source": [
    "We performed a thorough EDA of the dataset, and built several models to detect if a water is in need of repairs. We tried 5 different classification models, settling on a Random Forest Classifier as the best performer. It had a higher overall F1 Score, as well as the best recall for the 'Needs Repair' category. Higher recall means less false negatives - we believe that this is the best method to evaluate the model as a false negative (a well that needs repairs being labeled as not needing repairs could have devastating effects to a local community. And a well that does not need repairs being labeled as such, while being a waste of resources, would not have nearly as drastic of an effect)"
   ]
  },
  {
   "cell_type": "markdown",
   "metadata": {},
   "source": [
    "### Load data and necessary packages"
   ]
  },
  {
   "cell_type": "code",
   "execution_count": 22,
   "metadata": {},
   "outputs": [
    {
     "name": "stdout",
     "output_type": "stream",
     "text": [
      "The autoreload extension is already loaded. To reload it, use:\n",
      "  %reload_ext autoreload\n"
     ]
    }
   ],
   "source": [
    "%load_ext autoreload\n",
    "%autoreload 2\n",
    "import functions_used as func\n",
    "import pandas as pd\n",
    "from sklearn.ensemble import RandomForestClassifier\n",
    "from sklearn.preprocessing import OneHotEncoder\n",
    "from sklearn.model_selection import train_test_split\n",
    "from sklearn.metrics import confusion_matrix\n",
    "from sklearn.metrics import classification_report"
   ]
  },
  {
   "cell_type": "code",
   "execution_count": 5,
   "metadata": {},
   "outputs": [],
   "source": [
    "features = pd.read_csv(\"~/ds/proj3/tanzania-water-wells/data/raw/training-set-values.csv\")\n",
    "targets = pd.read_csv(\"~/ds/proj3/tanzania-water-wells/data/raw/training-labels.csv\")\n",
    "X_test = pd.read_csv(\"~/ds/proj3/tanzania-water-wells/data/raw/test-set.csv\")"
   ]
  },
  {
   "cell_type": "code",
   "execution_count": 6,
   "metadata": {},
   "outputs": [],
   "source": [
    "## This changes the target 'non functional' and 'functinoal needs repair' into 'needs repair'\n",
    "targets['status_group'] = targets['status_group'].map({'non functional':'needs repair',\n",
    "                                                       'functional needs repair':'needs repair',\n",
    "                                                       'functional':'functional'})"
   ]
  },
  {
   "cell_type": "markdown",
   "metadata": {},
   "source": [
    "### Build the model"
   ]
  },
  {
   "cell_type": "code",
   "execution_count": 7,
   "metadata": {},
   "outputs": [],
   "source": [
    "# list of features used\n",
    "features_list = ['basin', 'region', 'scheme_management', 'scheme_name',\n",
    "       'extraction_type', 'management', 'payment', 'water_quality', 'quantity',\n",
    "       'source', 'waterpoint_type','gps_height', 'longitude', 'latitude', \n",
    "       'region_code', 'district_code', 'population', 'construction_year', 'status_group']   "
   ]
  },
  {
   "cell_type": "code",
   "execution_count": 20,
   "metadata": {},
   "outputs": [],
   "source": [
    "# Initialize a One Hot Encoder object\n",
    "ohe = OneHotEncoder(handle_unknown = 'ignore')\n",
    "# Train/Test split the data, then join X/Y, before preprocessing.  \n",
    "X_train, X_test, y_train, y_test = train_test_split(features, targets, random_state=42)\n",
    "joined_train = X_train.join(y_train, lsuffix='_l', rsuffix='_r')\n",
    "joined_train_processed, y_train = func.model_preprocessing(joined_train, features_list, ohe, train = True)\n",
    "# To Test data as well. This ensures the correct rows are dropped.\n",
    "joined_test = X_test.join(y_test, lsuffix='_l', rsuffix='_r')\n",
    "joined_test_processed, y_test = func.model_preprocessing(joined_test, features_list, ohe, train=False);"
   ]
  },
  {
   "cell_type": "code",
   "execution_count": 23,
   "metadata": {},
   "outputs": [
    {
     "data": {
      "text/plain": [
       "0.8200598177644849"
      ]
     },
     "execution_count": 23,
     "metadata": {},
     "output_type": "execute_result"
    }
   ],
   "source": [
    "# Initialize a Random Forest Classifier Object\n",
    "rfc = RandomForestClassifier(n_estimators=50, random_state=42, bootstrap=True, max_depth = 50)\n",
    "# Fit training data to the object\n",
    "rfc.fit(joined_train_processed,y_train)\n",
    "# Make predictions on trained model\n",
    "rfc_predicts = rfc.predict(joined_test_processed)\n",
    "# Score the model\n",
    "rfc.score(joined_test_processed, y_test)"
   ]
  },
  {
   "cell_type": "code",
   "execution_count": 24,
   "metadata": {},
   "outputs": [
    {
     "ename": "AttributeError",
     "evalue": "module 'functions_used' has no attribute 'calc_accuracy'",
     "output_type": "error",
     "traceback": [
      "\u001b[0;31m---------------------------------------------------------------------------\u001b[0m",
      "\u001b[0;31mAttributeError\u001b[0m                            Traceback (most recent call last)",
      "\u001b[0;32m<ipython-input-24-5fa0aee054e1>\u001b[0m in \u001b[0;36m<module>\u001b[0;34m\u001b[0m\n\u001b[1;32m      1\u001b[0m \u001b[0;31m# Display classification metrics\u001b[0m\u001b[0;34m\u001b[0m\u001b[0;34m\u001b[0m\u001b[0;34m\u001b[0m\u001b[0m\n\u001b[0;32m----> 2\u001b[0;31m \u001b[0mfunc\u001b[0m\u001b[0;34m.\u001b[0m\u001b[0mcalc_accuracy\u001b[0m\u001b[0;34m(\u001b[0m\u001b[0my_test\u001b[0m\u001b[0;34m,\u001b[0m \u001b[0mrfc_predicts\u001b[0m\u001b[0;34m)\u001b[0m\u001b[0;34m\u001b[0m\u001b[0;34m\u001b[0m\u001b[0m\n\u001b[0m",
      "\u001b[0;31mAttributeError\u001b[0m: module 'functions_used' has no attribute 'calc_accuracy'"
     ]
    }
   ],
   "source": [
    "# Display classification metrics\n",
    "func.calc_accuracy(y_test, rfc_predicts)"
   ]
  },
  {
   "cell_type": "code",
   "execution_count": null,
   "metadata": {},
   "outputs": [],
   "source": []
  }
 ],
 "metadata": {
  "kernelspec": {
   "display_name": "Python (sklearn-env)",
   "language": "python",
   "name": "sklearn-env"
  },
  "language_info": {
   "codemirror_mode": {
    "name": "ipython",
    "version": 3
   },
   "file_extension": ".py",
   "mimetype": "text/x-python",
   "name": "python",
   "nbconvert_exporter": "python",
   "pygments_lexer": "ipython3",
   "version": "3.7.3"
  }
 },
 "nbformat": 4,
 "nbformat_minor": 2
}
