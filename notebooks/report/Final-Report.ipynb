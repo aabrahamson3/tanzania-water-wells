{
 "cells": [
  {
   "cell_type": "markdown",
   "metadata": {},
   "source": [
    "# Detecting Tanzanian Water Wells in Need of Repair\n",
    "\n",
    "January 3rd, 2020\n",
    "\n",
    "Report by Karen Warmbein, Aaron Abrahamson, and Hunter Ewing. \n"
   ]
  },
  {
   "cell_type": "markdown",
   "metadata": {},
   "source": [
    "______"
   ]
  },
  {
   "cell_type": "markdown",
   "metadata": {},
   "source": [
    "Our project was aimed at helping the Tanzanian government (and support organizations) detect when a water well will be in need of repair. This is a substantial issue in Tanzania as it experiences severe dry seasons, and most of the population lives in rural communities. Detecting when a well is in need of repair is of utmost of importance to properly allocate limited resources."
   ]
  },
  {
   "cell_type": "markdown",
   "metadata": {},
   "source": [
    "We performed a thorough EDA of the dataset, and built several models to detect if a water is in need of repairs. We tried 5 different classification models, settling on a Random Forest Classifier as the best performer. It had a higher overall F1 Score, as well as the best recall for the 'Needs Repair' category. Higher recall means less false negatives - we believe that this is the best method to evaluate the model as a false negative (a well that needs repairs being labeled as not needing repairs could have devastating effects to a local community. And a well that does not need repairs being labeled as such, while being a waste of resources, would not have nearly as drastic of an effect)"
   ]
  },
  {
   "cell_type": "markdown",
   "metadata": {},
   "source": [
    "### Load data and necessary packages"
   ]
  },
  {
   "cell_type": "code",
   "execution_count": 10,
   "metadata": {},
   "outputs": [
    {
     "name": "stdout",
     "output_type": "stream",
     "text": [
      "The autoreload extension is already loaded. To reload it, use:\n",
      "  %reload_ext autoreload\n"
     ]
    }
   ],
   "source": [
    "%load_ext autoreload\n",
    "%autoreload 2\n",
    "from src.utilities import functions_used as func\n",
    "import pandas as pd\n",
    "from sklearn.ensemble import RandomForestClassifier\n",
    "from sklearn.preprocessing import OneHotEncoder\n",
    "from sklearn.model_selection import train_test_split\n",
    "from sklearn.metrics import confusion_matrix\n",
    "from sklearn.metrics import classification_report\n",
    "from sklearn.metrics import accuracy_score\n",
    "from sklearn.metrics import plot_confusion_matrix\n"
   ]
  },
  {
   "cell_type": "code",
   "execution_count": 5,
   "metadata": {},
   "outputs": [],
   "source": [
    "features = pd.read_csv(\"~/ds/proj3/tanzania-water-wells/data/raw/training-set-values.csv\")\n",
    "targets = pd.read_csv(\"~/ds/proj3/tanzania-water-wells/data/raw/training-labels.csv\")\n",
    "X_test = pd.read_csv(\"~/ds/proj3/tanzania-water-wells/data/raw/test-set.csv\")"
   ]
  },
  {
   "cell_type": "code",
   "execution_count": 6,
   "metadata": {},
   "outputs": [],
   "source": [
    "## This changes the target 'non functional' and 'functinoal needs repair' into 'needs repair'\n",
    "targets['status_group'] = targets['status_group'].map({'non functional':'needs repair',\n",
    "                                                       'functional needs repair':'needs repair',\n",
    "                                                       'functional':'functional'})"
   ]
  },
  {
   "cell_type": "markdown",
   "metadata": {},
   "source": [
    "### Build the model\n",
    "\n",
    "Below are the steps we took to fit, train and test our random forest classifier model."
   ]
  },
  {
   "cell_type": "code",
   "execution_count": 7,
   "metadata": {},
   "outputs": [],
   "source": [
    "# list of features used\n",
    "features_list = ['basin', 'region', 'scheme_management', 'scheme_name',\n",
    "       'extraction_type', 'management', 'payment', 'water_quality', 'quantity',\n",
    "       'source', 'waterpoint_type','gps_height', 'longitude', 'latitude', \n",
    "       'region_code', 'district_code', 'population', 'construction_year', 'status_group']   "
   ]
  },
  {
   "cell_type": "code",
   "execution_count": 8,
   "metadata": {},
   "outputs": [],
   "source": [
    "# Initialize a One Hot Encoder object\n",
    "ohe = OneHotEncoder(handle_unknown = 'ignore')\n",
    "# Train/Test split the data, then join X/Y, before preprocessing.  \n",
    "X_train, X_test, y_train, y_test = train_test_split(features, targets, random_state=42)\n",
    "joined_train = X_train.join(y_train, lsuffix='_l', rsuffix='_r')\n",
    "joined_train_processed, y_train = func.model_preprocessing(joined_train, features_list, ohe, train = True)\n",
    "# To Test data as well. This ensures the correct rows are dropped.\n",
    "joined_test = X_test.join(y_test, lsuffix='_l', rsuffix='_r')\n",
    "joined_test_processed, y_test = func.model_preprocessing(joined_test, features_list, ohe, train=False);"
   ]
  },
  {
   "cell_type": "code",
   "execution_count": 9,
   "metadata": {},
   "outputs": [
    {
     "data": {
      "text/plain": [
       "0.8200598177644849"
      ]
     },
     "execution_count": 9,
     "metadata": {},
     "output_type": "execute_result"
    }
   ],
   "source": [
    "# Initialize a Random Forest Classifier Object\n",
    "rfc = RandomForestClassifier(n_estimators=50, random_state=42, bootstrap=True, max_depth = 50)\n",
    "# Fit training data to the object\n",
    "rfc.fit(joined_train_processed,y_train)\n",
    "# Make predictions on trained model\n",
    "rfc_predicts = rfc.predict(joined_test_processed)\n",
    "# Score the model\n",
    "rfc.score(joined_test_processed, y_test)"
   ]
  },
  {
   "cell_type": "code",
   "execution_count": 8,
   "metadata": {},
   "outputs": [
    {
     "name": "stdout",
     "output_type": "stream",
     "text": [
      "              precision    recall  f1-score   support\n",
      "\n",
      "  functional       0.82      0.86      0.84      7862\n",
      "needs repair       0.82      0.77      0.79      6515\n",
      "\n",
      "    accuracy                           0.82     14377\n",
      "   macro avg       0.82      0.82      0.82     14377\n",
      "weighted avg       0.82      0.82      0.82     14377\n",
      "\n"
     ]
    }
   ],
   "source": [
    "# Display classification metrics\n",
    "print(classification_report(y_test,rfc_predicts))"
   ]
  },
  {
   "cell_type": "code",
   "execution_count": 9,
   "metadata": {},
   "outputs": [
    {
     "name": "stdout",
     "output_type": "stream",
     "text": [
      "Accuracy is: 82.0059817764485\n"
     ]
    }
   ],
   "source": [
    "print(f'Accuracy is: {accuracy_score(y_test, rfc_predicts)*100}')"
   ]
  },
  {
   "cell_type": "code",
   "execution_count": 15,
   "metadata": {},
   "outputs": [
    {
     "data": {
      "text/plain": [
       "array([[6780, 1082],\n",
       "       [1505, 5010]])"
      ]
     },
     "execution_count": 15,
     "metadata": {},
     "output_type": "execute_result"
    }
   ],
   "source": [
    "confusion_matrix(y_test, rfc_predicts)"
   ]
  },
  {
   "cell_type": "markdown",
   "metadata": {},
   "source": [
    "# Plot the confusion matrix"
   ]
  },
  {
   "cell_type": "code",
   "execution_count": 14,
   "metadata": {
    "scrolled": true
   },
   "outputs": [
    {
     "data": {
      "image/png": "[encoded data removed]",
      "text/plain": [
       "<Figure size 432x288 with 2 Axes>"
      ]
     },
     "metadata": {
      "needs_background": "light"
     },
     "output_type": "display_data"
    },
    {
     "data": {
      "image/png": "[encoded data removed]",
      "text/plain": [
       "<Figure size 432x288 with 2 Axes>"
      ]
     },
     "metadata": {
      "needs_background": "light"
     },
     "output_type": "display_data"
    }
   ],
   "source": [
    "func.plot_matrix(rfc, joined_test_processed, y_test)"
   ]
  },
  {
   "cell_type": "markdown",
   "metadata": {},
   "source": [
    "### Final Results\n",
    "\n",
    "Our random forest classifier model had an 82% accuracy overall, with an F1-Score for the True Functional label of 84% and 79% for the True Needs Repair label. The metric best for our business case, True Needs Repair Recall, performed the worst, unfortunately, at 77%. While this is still a good predictive mode, if given more time we would like to perform more feature engineering to increase this recall score."
   ]
  },
  {
   "cell_type": "markdown",
   "metadata": {},
   "source": [
    "## Sample Map of Well Locations\n",
    "\n",
    "Below is a sample of wells from our test data."
   ]
  },
  {
   "cell_type": "code",
   "execution_count": 3,
   "metadata": {},
   "outputs": [
    {
     "ename": "NameError",
     "evalue": "name 'joined_test_processed' is not defined",
     "output_type": "error",
     "traceback": [
      "\u001b[0;31m---------------------------------------------------------------------------\u001b[0m",
      "\u001b[0;31mNameError\u001b[0m                                 Traceback (most recent call last)",
      "\u001b[0;32m<ipython-input-3-18c05281d464>\u001b[0m in \u001b[0;36m<module>\u001b[0;34m\u001b[0m\n\u001b[0;32m----> 1\u001b[0;31m \u001b[0mfunc\u001b[0m\u001b[0;34m.\u001b[0m\u001b[0mmake_map\u001b[0m\u001b[0;34m(\u001b[0m\u001b[0mjoined_test_processed\u001b[0m\u001b[0;34m)\u001b[0m\u001b[0;34m\u001b[0m\u001b[0;34m\u001b[0m\u001b[0m\n\u001b[0m",
      "\u001b[0;31mNameError\u001b[0m: name 'joined_test_processed' is not defined"
     ]
    }
   ],
   "source": [
    "func.make_map(joined_test_processed)"
   ]
  },
  {
   "cell_type": "code",
   "execution_count": null,
   "metadata": {},
   "outputs": [],
   "source": []
  }
 ],
 "metadata": {
  "kernelspec": {
   "display_name": "Python (sklearn-env)",
   "language": "python",
   "name": "sklearn-env"
  },
  "language_info": {
   "codemirror_mode": {
    "name": "ipython",
    "version": 3
   },
   "file_extension": ".py",
   "mimetype": "text/x-python",
   "name": "python",
   "nbconvert_exporter": "python",
   "pygments_lexer": "ipython3",
   "version": "3.7.3"
  }
 },
 "nbformat": 4,
 "nbformat_minor": 2
}
