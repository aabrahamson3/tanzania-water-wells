{
 "cells": [
  {
   "cell_type": "code",
   "execution_count": 1,
   "metadata": {},
   "outputs": [],
   "source": [
    "import pandas as pd\n",
    "import seaborn as sns\n",
    "import matplotlib.pyplot as plt\n",
    "import numpy as np\n",
    "from sklearn.tree import DecisionTreeClassifier\n",
    "from sklearn.preprocessing import OneHotEncoder\n",
    "from sklearn.model_selection import train_test_split\n",
    "\n",
    "import functions_used as func"
   ]
  },
  {
   "cell_type": "code",
   "execution_count": 2,
   "metadata": {},
   "outputs": [],
   "source": [
    "file_train = \"~/ds/projects/mod_3_project/tanzania-water-wells/data/raw/training-set-values.csv\" #x_train, training set values data\n",
    "file_target_train = \"~/ds/projects/mod_3_project/tanzania-water-wells/data/raw/training-labels.csv\" #y_train, training set labels\n",
    "file_test = \"~/ds/projects/mod_3_project/tanzania-water-wells/data/raw/test-set.csv\" #x_test, test set data"
   ]
  },
  {
   "cell_type": "code",
   "execution_count": 3,
   "metadata": {},
   "outputs": [],
   "source": [
    "features = pd.read_csv(file_train)\n",
    "targets = pd.read_csv(file_target_train)\n",
    "X_test = pd.read_csv(file_test)"
   ]
  },
  {
   "cell_type": "markdown",
   "metadata": {},
   "source": [
    "## Functions "
   ]
  },
  {
   "cell_type": "code",
   "execution_count": 33,
   "metadata": {},
   "outputs": [],
   "source": [
    "# Be sure to train/test split before processing DFs\n",
    "def model_preprocessing(df, feature_list, ohe, train=True):\n",
    "    print('Beginning numerical cleaning...')\n",
    "    df = numerical_clean(df, feature_list)\n",
    "    print('Completed numerical cleaning.\\n')\n",
    "    \n",
    "    print('Removing the target from the cleaned data frame...')\n",
    "    target = df['status_group']\n",
    "    print(\"---Length of target: \", len(target))\n",
    "    df = df.drop(columns='status_group', axis = 1)\n",
    "    print(\"---Shape of dataframe: \", df.shape)\n",
    "    \n",
    "    print(\"Reading the remaining columns as independent features\\n\")\n",
    "    obj_list = obj_lister(df)\n",
    "    \n",
    "    print('Begining \"object\" cleaning...')\n",
    "    ohe_df = obj_preprocessing(df, obj_list, ohe, train)\n",
    "    print(\"---Shape of ohe_df: \", ohe_df.shape)\n",
    "    print('...ending \"object\" cleaning.')\n",
    "    \n",
    "    print(\"Joining the cleaned numerical and object dataframes together.\")\n",
    "    # dropping the independent features from X\n",
    "    df = df.drop(obj_list, axis=1)\n",
    "    # joining the OHE dataframe to X\n",
    "    model_df = df.join(ohe_df)\n",
    "    print('Returning the main (independent features, X) and target (y) data frames...')\n",
    "    return model_df, target\n",
    "\n",
    "\n",
    "def numerical_clean(df, feature_list):\n",
    "    #this takes the df and the list of numerical features to clean\n",
    "    df = df[feature_list]\n",
    "    print(\"check: df shape = \", df.shape)\n",
    "    print('---Dropping 0 longitudes...')\n",
    "    df = drop_zero_long(df)\n",
    "    print(\"check: df shape = \", df.shape)\n",
    "    print(\"---Replace 0's with average constructor year...\")\n",
    "    df = con_year_avg(df)\n",
    "    print(\"check: df shape = \", df.shape)\n",
    "    print('...returning a cleaned dataframe of numerical values.')\n",
    "    return df\n",
    "\n",
    "def drop_zero_long(df):\n",
    "    return df.drop(df[df.longitude==0].index)\n",
    "\n",
    "def con_year_avg(df):\n",
    "    con_year_nonzero = df.replace(0, np.nan)\n",
    "    avg_con_years = pd.DataFrame(con_year_nonzero.groupby(['extraction_type']).mean()['construction_year'])\n",
    "    df = df.join(avg_con_years, rsuffix = '_avg', on = 'extraction_type')\n",
    "    df = df.reset_index()\n",
    "    df = df.drop(['index'], axis = 1)\n",
    "#    df['construction_year'] = df.apply(con_year, axis=1)\n",
    "    df = df.drop(['construction_year_avg'], axis = 1)\n",
    "    return df\n",
    "\n",
    "def obj_lister(df):\n",
    "    # returns a list of columns that contain Objects\n",
    "    obj_list = []\n",
    "    for col in df.select_dtypes([np.object]):\n",
    "        obj_list.append(col)\n",
    "    return obj_list\n",
    "\n",
    "def obj_preprocessing(df, obj_list, ohe, train = True):\n",
    "    '''\n",
    "    \n",
    "    '''\n",
    "    df_current = df[obj_list]\n",
    "    # Clean the df if there are NaNs\n",
    "    df = NaN_cleaning(df_current)\n",
    "    #OHE data\n",
    "    array_current = ohe_data(df, ohe, train)\n",
    "    #return a dataframe of the OHE data\n",
    "    return pd.DataFrame(array_current)\n",
    "\n",
    "\n",
    "def NaN_cleaning(df):\n",
    "    # Replace NaN with \"unknown\" bin\n",
    "    print('---Replacing NaN with \"unknown\" bin...')\n",
    "    df = df.replace(np.nan, 'unknown')\n",
    "    print(f'---Check: Number of rows with nulls: {len(df[df.isna().any(axis=1)])}...\\n')\n",
    "    return df.reset_index(drop=True)\n",
    "\n",
    "def ohe_data(df, ohe, train):\n",
    "    #OHE the data\n",
    "    print('Begin one hot encoding data...')\n",
    "    if train:\n",
    "        array_current = ohe.fit_transform(df).toarray()\n",
    "    else:\n",
    "        array_current = ohe.transform(df).toarray()\n",
    "    print('Finish one hot encoding data...\\n')\n",
    "    return array_current"
   ]
  },
  {
   "cell_type": "markdown",
   "metadata": {},
   "source": [
    "## Model 1: Decision Tree"
   ]
  },
  {
   "cell_type": "code",
   "execution_count": 16,
   "metadata": {},
   "outputs": [],
   "source": [
    "#note the target is listed in here\n",
    "\n",
    "features_list = ['basin', 'region', 'scheme_management', 'scheme_name',\n",
    "       'extraction_type', 'management', 'payment', 'water_quality', 'quantity',\n",
    "       'source', 'waterpoint_type','gps_height', 'longitude', 'latitude', \n",
    "       'region_code', 'district_code', 'population', 'construction_year', 'status_group']   \n"
   ]
  },
  {
   "cell_type": "code",
   "execution_count": 17,
   "metadata": {},
   "outputs": [],
   "source": [
    "ohe = OneHotEncoder(handle_unknown = 'ignore')"
   ]
  },
  {
   "cell_type": "markdown",
   "metadata": {},
   "source": [
    "- Perform a train test spit of the \"training data\" given in the problem. \n",
    "- Join the training data (X and y) together.\n"
   ]
  },
  {
   "cell_type": "code",
   "execution_count": 18,
   "metadata": {},
   "outputs": [],
   "source": [
    "X_train, X_test, y_train, y_test = train_test_split(features, targets, random_state=42)"
   ]
  },
  {
   "cell_type": "code",
   "execution_count": 19,
   "metadata": {},
   "outputs": [],
   "source": [
    "joined_train = X_train.join(y_train, lsuffix='_l', rsuffix='_r')"
   ]
  },
  {
   "cell_type": "markdown",
   "metadata": {},
   "source": [
    "- Perform the pre-processing. Clean the numerical data. Perform One Hot Encoding."
   ]
  },
  {
   "cell_type": "code",
   "execution_count": 34,
   "metadata": {},
   "outputs": [
    {
     "name": "stdout",
     "output_type": "stream",
     "text": [
      "Beginning numerical cleaning...\n",
      "check: df shape =  (44550, 19)\n",
      "---Dropping 0 longitudes...\n",
      "check: df shape =  (43211, 19)\n",
      "---Replace 0's with average constructor year...\n",
      "check: df shape =  (43211, 19)\n",
      "...returning a cleaned dataframe of numerical values.\n",
      "Completed numerical cleaning.\n",
      "\n",
      "Removing the target from the cleaned data frame...\n",
      "---Length of target:  43211\n",
      "---Shape of dataframe:  (43211, 18)\n",
      "Reading the remaining columns as independent features\n",
      "\n",
      "Begining \"object\" cleaning...\n",
      "---Replacing NaN with \"unknown\" bin...\n",
      "---Check: Number of rows with nulls: 0...\n",
      "\n",
      "Begin one hot encoding data...\n",
      "Finish one hot encoding data...\n",
      "\n",
      "---Shape of ohe_df:  (43211, 2572)\n",
      "...ending \"object\" cleaning.\n",
      "Joining the cleaned numerical and object dataframes together.\n",
      "Returning the main (independent features, X) and target (y) data frames...\n"
     ]
    }
   ],
   "source": [
    "joined_train_processed, y_train = model_preprocessing(joined_train, features_list, ohe, train = True)"
   ]
  },
  {
   "cell_type": "markdown",
   "metadata": {},
   "source": [
    "- Train the decision tree with training data."
   ]
  },
  {
   "cell_type": "code",
   "execution_count": 26,
   "metadata": {},
   "outputs": [
    {
     "data": {
      "text/plain": [
       "DecisionTreeClassifier(class_weight=None, criterion='gini', max_depth=5,\n",
       "            max_features=None, max_leaf_nodes=None,\n",
       "            min_impurity_decrease=0.0, min_impurity_split=None,\n",
       "            min_samples_leaf=1, min_samples_split=2,\n",
       "            min_weight_fraction_leaf=0.0, presort=False, random_state=42,\n",
       "            splitter='best')"
      ]
     },
     "execution_count": 26,
     "metadata": {},
     "output_type": "execute_result"
    }
   ],
   "source": [
    "dtc = DecisionTreeClassifier(random_state=42, max_depth=5) \n",
    "dtc.fit(joined_train_processed, y_train)"
   ]
  },
  {
   "cell_type": "markdown",
   "metadata": {},
   "source": [
    "- Repeat the pre-processing on the test data.\n",
    "- Join the testing data (X and y) together."
   ]
  },
  {
   "cell_type": "code",
   "execution_count": 29,
   "metadata": {},
   "outputs": [],
   "source": [
    "joined_test = X_test.join(y_test, lsuffix='_l', rsuffix='_r')"
   ]
  },
  {
   "cell_type": "markdown",
   "metadata": {},
   "source": [
    "- Preprocess the testing data."
   ]
  },
  {
   "cell_type": "code",
   "execution_count": 30,
   "metadata": {},
   "outputs": [
    {
     "name": "stdout",
     "output_type": "stream",
     "text": [
      "Beginning numerical cleaning...\n",
      "check: df shape =  (14850, 19)\n",
      "---Dropping 0 longitudes...\n",
      "check: df shape =  (14377, 19)\n",
      "---Replace 0's with average constructor year...\n",
      "check: df shape =  (14377, 19)\n",
      "...returning a cleaned dataframe of numerical values.\n",
      "\n",
      "...completed numerical cleaning.\n",
      "\n",
      "Removing the target from the cleaned data frame...\n",
      "---Length of target:  14377\n",
      "---Shape of dataframe:  (14377, 18)\n",
      "Reading the remaining columns as independent features\n",
      "\n",
      "Begining \"object\" cleaning...\n",
      "---Replacing NaN with \"unknown\" bin...\n",
      "---Check: Number of rows with nulls: 0...\n",
      "\n",
      "Begin one hot encoding data...\n",
      "Finish one hot encoding data...\n",
      "\n",
      "---Shape of ohe_df:  (14377, 2572)\n",
      "...ending \"object\" cleaning.\n",
      "Joining the cleaned numerical and object dataframes together.\n",
      "Returning the main (independent features, X) and target (y) data frames...\n"
     ]
    }
   ],
   "source": [
    "joined_test_processed, y_test = model_preprocessing(joined_test, features_list, ohe, train=False)"
   ]
  },
  {
   "cell_type": "markdown",
   "metadata": {},
   "source": [
    "- Make predictions with the test data."
   ]
  },
  {
   "cell_type": "code",
   "execution_count": 31,
   "metadata": {},
   "outputs": [],
   "source": [
    "predicts = dtc.predict(joined_test_processed)"
   ]
  },
  {
   "cell_type": "markdown",
   "metadata": {},
   "source": [
    "- Check the score of the model."
   ]
  },
  {
   "cell_type": "code",
   "execution_count": 32,
   "metadata": {},
   "outputs": [
    {
     "data": {
      "text/plain": [
       "0.7052931766015164"
      ]
     },
     "execution_count": 32,
     "metadata": {},
     "output_type": "execute_result"
    }
   ],
   "source": [
    "dtc.score(joined_test_processed, y_test) #x_test, y_test from split"
   ]
  },
  {
   "cell_type": "code",
   "execution_count": null,
   "metadata": {},
   "outputs": [],
   "source": []
  }
 ],
 "metadata": {
  "kernelspec": {
   "display_name": "Python 3 (learn-env)",
   "language": "python",
   "name": "learn-env"
  },
  "language_info": {
   "codemirror_mode": {
    "name": "ipython",
    "version": 3
   },
   "file_extension": ".py",
   "mimetype": "text/x-python",
   "name": "python",
   "nbconvert_exporter": "python",
   "pygments_lexer": "ipython3",
   "version": "3.6.6"
  }
 },
 "nbformat": 4,
 "nbformat_minor": 2
}
