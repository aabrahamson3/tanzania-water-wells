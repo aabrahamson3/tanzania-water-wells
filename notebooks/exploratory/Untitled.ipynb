{
 "cells": [
  {
   "cell_type": "code",
   "execution_count": null,
   "metadata": {},
   "outputs": [],
   "source": [
    "\n"
   ]
  },
  {
   "cell_type": "code",
   "execution_count": null,
   "metadata": {},
   "outputs": [],
   "source": []
  },
  {
   "cell_type": "code",
   "execution_count": null,
   "metadata": {},
   "outputs": [],
   "source": []
  },
  {
   "cell_type": "code",
   "execution_count": null,
   "metadata": {},
   "outputs": [],
   "source": [
    "from ipyleaflet import Map, basemaps, basemap_to_tiles, CircleMarker, LayerGroup\n",
    "\n",
    "m = Map(center=(-6, 35),\n",
    "        zoom=5, \n",
    "        scroll_wheel_zoom=True)\n",
    "\n",
    "def create_marker(row):\n",
    "    lat_lon = (row[\"latitude\"], row[\"longitude\"])\n",
    "    return CircleMarker(location=lat_lon,\n",
    "                    draggable=False,\n",
    "                    fill_color=\"#055a8c\",\n",
    "                    fill_opacity=0.35,\n",
    "                    radius=1,\n",
    "                    stroke=False)\n",
    "\n",
    "markers = joined_test_processed.apply(create_marker, axis=1)\n",
    "layer_group = LayerGroup(layers=tuple(markers.values))\n",
    "m.add_layer(layer_group)\n",
    "\n",
    "m"
   ]
  }
 ],
 "metadata": {
  "kernelspec": {
   "display_name": "Python 3 (learn-env)",
   "language": "python",
   "name": "learn-env"
  },
  "language_info": {
   "codemirror_mode": {
    "name": "ipython",
    "version": 3
   },
   "file_extension": ".py",
   "mimetype": "text/x-python",
   "name": "python",
   "nbconvert_exporter": "python",
   "pygments_lexer": "ipython3",
   "version": "3.6.6"
  }
 },
 "nbformat": 4,
 "nbformat_minor": 2
}
