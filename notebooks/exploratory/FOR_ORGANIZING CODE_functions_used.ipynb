{
 "cells": [
  {
   "cell_type": "code",
   "execution_count": 5,
   "metadata": {},
   "outputs": [],
   "source": [
    "# Be sure to train/test split before processing DFs\n",
    "def model_preprocessing(df, feature_list, ohe, train=True):\n",
    "    print('Beginning numerical cleaning...')\n",
    "    df = numerical_clean(df, feature_list)\n",
    "    print('...completed numerical cleaning.\\n')\n",
    "    \n",
    "    print('Removing the target from the cleaned data frame...')\n",
    "    target = df['status_group']\n",
    "    print(\"---Length of target: \", len(target))\n",
    "    df = df.drop(columns='status_group', axis = 1)\n",
    "    print(\"---Shape of dataframe: \", df.shape)\n",
    "    \n",
    "    print(\"Reading the remaining columns as independent features\\n\")\n",
    "    obj_list = obj_lister(df)\n",
    "    \n",
    "    print('Begining \"object\" cleaning...')\n",
    "    ohe_df = obj_preprocessing(df, obj_list, ohe, train)\n",
    "    print(\"---Shape of ohe_df: \", ohe_df.shape)\n",
    "    print('...ending \"object\" cleaning.')\n",
    "    \n",
    "    print(\"Joining the cleaned numerical and object dataframes together.\")\n",
    "    # dropping the independent features from X\n",
    "    df = df.drop(obj_list, axis=1)\n",
    "    # joining the OHE dataframe to X\n",
    "    model_df = df.join(ohe_df)\n",
    "    print('Returning the main (independent features, X) and target (y) data frames...')\n",
    "    return model_df, target"
   ]
  },
  {
   "cell_type": "code",
   "execution_count": 6,
   "metadata": {},
   "outputs": [],
   "source": [
    "def numerical_clean(df, feature_list):\n",
    "    #this takes the df and the list of numerical features to clean\n",
    "    df = df[feature_list]\n",
    "    print(\"check: df shape = \", df.shape)\n",
    "    print('---Dropping 0 longitudes...')\n",
    "    df = drop_zero_long(df)\n",
    "    print(\"check: df shape = \", df.shape)\n",
    "    print(\"---Replace 0's with average constructor year...\")\n",
    "    df = con_year_avg(df)\n",
    "    print(\"check: df shape = \", df.shape)\n",
    "    print('...returning a cleaned dataframe of numerical values.\\n')\n",
    "    return df"
   ]
  },
  {
   "cell_type": "code",
   "execution_count": 7,
   "metadata": {},
   "outputs": [],
   "source": [
    "def drop_zero_long(df):\n",
    "    return df.drop(df[df.longitude==0].index)"
   ]
  },
  {
   "cell_type": "code",
   "execution_count": 8,
   "metadata": {},
   "outputs": [],
   "source": [
    "def con_year_avg(df):\n",
    "    con_year_nonzero = df.replace(0, np.nan)\n",
    "    avg_con_years = pd.DataFrame(con_year_nonzero.groupby(['extraction_type']).mean()['construction_year'])\n",
    "    df = df.join(avg_con_years, rsuffix = '_avg', on = 'extraction_type')\n",
    "    df = df.reset_index()\n",
    "    df = df.drop(['index'], axis = 1)\n",
    "    df['construction_year'] = wells_test.apply(con_year, axis=1)\n",
    "    df = df.drop(['construction_year_avg'], axis = 1)\n",
    "    return df"
   ]
  },
  {
   "cell_type": "code",
   "execution_count": null,
   "metadata": {},
   "outputs": [],
   "source": [
    "def obj_lister(df):\n",
    "    # returns a list of columns that contain Objects\n",
    "    obj_list = []\n",
    "    for col in df.select_dtypes([np.object]):\n",
    "        obj_list.append(col)\n",
    "    return obj_list"
   ]
  },
  {
   "cell_type": "code",
   "execution_count": null,
   "metadata": {},
   "outputs": [],
   "source": [
    "def obj_preprocessing(df, obj_list, ohe, train = True):\n",
    "    '''\n",
    "    \n",
    "    '''\n",
    "    df_current = df[obj_list]\n",
    "    # Clean the df if there are NaNs\n",
    "    df = NaN_cleaning(df_current)\n",
    "    #OHE data\n",
    "    array_current = ohe_data(df, ohe, train)\n",
    "    #return a dataframe of the OHE data\n",
    "    return pd.DataFrame(array_current)"
   ]
  },
  {
   "cell_type": "code",
   "execution_count": null,
   "metadata": {},
   "outputs": [],
   "source": [
    "def NaN_cleaning(df):\n",
    "    # Replace NaN with \"unknown\" bin\n",
    "    print('---Replacing NaN with \"unknown\" bin...')\n",
    "    df = df.replace(np.nan, 'unknown')\n",
    "    print(f'---Check: Number of rows with nulls: {len(df[df.isna().any(axis=1)])}...\\n')\n",
    "    return df.reset_index(drop=True)"
   ]
  },
  {
   "cell_type": "code",
   "execution_count": null,
   "metadata": {},
   "outputs": [],
   "source": [
    "def ohe_data(df, ohe, train):\n",
    "    #OHE the data\n",
    "    print('Begin one hot encoding data...')\n",
    "    if train:\n",
    "        array_current = ohe.fit_transform(df).toarray()\n",
    "    else:\n",
    "        array_current = ohe.transform(df).toarray()\n",
    "    print('Finish one hot encoding data...\\n')\n",
    "    return array_current"
   ]
  },
  {
   "cell_type": "code",
   "execution_count": null,
   "metadata": {},
   "outputs": [],
   "source": []
  }
 ],
 "metadata": {
  "kernelspec": {
   "display_name": "Python 3 (learn-env)",
   "language": "python",
   "name": "learn-env"
  },
  "language_info": {
   "codemirror_mode": {
    "name": "ipython",
    "version": 3
   },
   "file_extension": ".py",
   "mimetype": "text/x-python",
   "name": "python",
   "nbconvert_exporter": "python",
   "pygments_lexer": "ipython3",
   "version": "3.6.6"
  }
 },
 "nbformat": 4,
 "nbformat_minor": 2
}
